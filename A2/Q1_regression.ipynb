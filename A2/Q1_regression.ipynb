{
 "cells": [
  {
   "cell_type": "code",
   "execution_count": 46,
   "metadata": {},
   "outputs": [],
   "source": [
    "# import necessary modules\n",
    "import numpy as np\n",
    "import matplotlib.pyplot as plt\n",
    "import pandas as pd\n",
    "import house_sales_data as hsd\n",
    "from sklearn.model_selection import train_test_split"
   ]
  },
  {
   "cell_type": "code",
   "execution_count": 47,
   "metadata": {},
   "outputs": [
    {
     "name": "stdout",
     "output_type": "stream",
     "text": [
      "dict_keys(['price', 'area', 'beds', 'baths', 'condo', 'location'])\n"
     ]
    }
   ],
   "source": [
    "## Sacramento house price data; load\n",
    "data = hsd.house_sales_data() \n",
    "print(data.keys())\n",
    "\n",
    "## Get the target (i.e., price) and two features\n",
    "price = data[\"price\"]\n",
    "beds = data[\"beds\"]\n",
    "area = data[\"area\"]"
   ]
  },
  {
   "cell_type": "code",
   "execution_count": 48,
   "metadata": {},
   "outputs": [],
   "source": [
    "# Implement gradient descent (NOT SGD, just simple GD!)\n",
    "def gradient_descent(X, y, max_iteration, learning_rate):\n",
    "    m, n = X.shape\n",
    "    theta = np.zeros(n)\n",
    "    errs = np.zeros(max_iteration)\n",
    "\n",
    "    for t in range(max_iteration):\n",
    "        grad = np.zeros(n)\n",
    "        for i in range(m):\n",
    "            yhat = X[i] @ theta\n",
    "            errs[t] += 1/m * (yhat - y[i])**2\n",
    "            for j in range(n):\n",
    "                grad[j] += 1/m * 2 * (yhat - y[i])*X[i,j]\n",
    "        theta -= learning_rate * grad\n",
    "    return theta, errs"
   ]
  },
  {
   "cell_type": "code",
   "execution_count": 65,
   "metadata": {},
   "outputs": [],
   "source": [
    "# implementing GD using vectorized operation\n",
    "def gradient_descent1(x,y,max_iter,lr):\n",
    "    m,n = x.shape\n",
    "    theta = np.zeros((n,1))\n",
    "    y = y.reshape(m,1)\n",
    "    costs = []\n",
    "    for i in range(max_iter):\n",
    "        pred = x @ theta\n",
    "        grad_theta = (2/m)*(x.T @ (pred - y))\n",
    "        theta = theta - lr * grad_theta \n",
    "        costs.append(sum((pred - y)**2))\n",
    "    return theta,costs"
   ]
  },
  {
   "cell_type": "code",
   "execution_count": 56,
   "metadata": {},
   "outputs": [],
   "source": [
    "# Normalize data \n",
    "def normalize_data(X, y, normalize_cols):\n",
    "    minX = X[:,normalize_cols].min(axis=0)\n",
    "    maxX = X[:,normalize_cols].max(axis=0)\n",
    "    miny = y.min()\n",
    "    maxy = y.max()\n",
    "    X[:,normalize_cols] = (X[:,normalize_cols] - minX) / (maxX - minX)\n",
    "    y[:] = (y - miny) / (maxy - miny)\n",
    "    return X, y, minX, maxX, miny, maxy"
   ]
  },
  {
   "cell_type": "code",
   "execution_count": 57,
   "metadata": {},
   "outputs": [],
   "source": [
    "# Implement an evaluation metric for regression\n",
    "def evaluation_metric(y,y_hat):\n",
    "    p1 = (y - y_hat).T\n",
    "    p2 = (y - y_hat)\n",
    "    return (1/len(y))*(p1 @ p2)"
   ]
  },
  {
   "cell_type": "code",
   "execution_count": 58,
   "metadata": {},
   "outputs": [],
   "source": [
    "# Prepare data this way\n",
    "X_train = np.hstack((area[:,np.newaxis], beds[:,np.newaxis], np.ones(area.shape[0])[:,np.newaxis]))\n",
    "y_train = price\n",
    "X, y, min_X, max_X, min_y, max_y = normalize_data(X_train, y_train, [True, True, False])\n",
    "X_train, X_test, y_train, y_test = train_test_split(X, y, test_size=0.2, random_state=42)"
   ]
  },
  {
   "cell_type": "code",
   "execution_count": 59,
   "metadata": {},
   "outputs": [],
   "source": [
    "x = X_train; y = y_train"
   ]
  },
  {
   "cell_type": "code",
   "execution_count": 66,
   "metadata": {},
   "outputs": [],
   "source": [
    "# call gradient descent and fine-tune your learning rate\n",
    "theta,costs = gradient_descent1(x,y,2500,0.01)"
   ]
  },
  {
   "cell_type": "code",
   "execution_count": 67,
   "metadata": {},
   "outputs": [
    {
     "data": {
      "text/plain": [
       "array([[0.50660755],\n",
       "       [0.16850882],\n",
       "       [0.05519877]])"
      ]
     },
     "execution_count": 67,
     "metadata": {},
     "output_type": "execute_result"
    }
   ],
   "source": [
    "theta"
   ]
  },
  {
   "cell_type": "code",
   "execution_count": 62,
   "metadata": {},
   "outputs": [
    {
     "name": "stdout",
     "output_type": "stream",
     "text": [
      "(3, 1) (619, 3)\n"
     ]
    }
   ],
   "source": [
    "def evaluation_metric(y,y_hat):\n",
    "    p1 = (y - y_hat).Tprint(theta.shape,X_train.shape)"
   ]
  },
  {
   "cell_type": "code",
   "execution_count": 68,
   "metadata": {},
   "outputs": [
    {
     "data": {
      "text/plain": [
       "[<matplotlib.lines.Line2D at 0x7fadde8dc670>]"
      ]
     },
     "execution_count": 68,
     "metadata": {},
     "output_type": "execute_result"
    },
    {
     "data": {
      "image/png": "[encoded data removed]",
      "text/plain": [
       "<Figure size 432x288 with 1 Axes>"
      ]
     },
     "metadata": {
      "needs_background": "light"
     },
     "output_type": "display_data"
    }
   ],
   "source": [
    "# plot cost vs iterations \n",
    "plt.plot(costs)\n",
    "# note gradient descent return costs for all iterations"
   ]
  },
  {
   "cell_type": "code",
   "execution_count": 70,
   "metadata": {},
   "outputs": [],
   "source": [
    "# print evaluation metric for test set while \n",
    "# changing max_iteration from 500 to 2000\n",
    "\n",
    "err =[]\n",
    "for i in range(500,2000,100):\n",
    "    theta,costs = gradient_descent(X_train,y_train,i,0.01)\n",
    "    #theta = theta.reshape(len(theta),1)\n",
    "    err.append(evaluation_metric(y_test,X_test@theta))\n",
    "# Note the best value of evaluation metric you get"
   ]
  },
  {
   "cell_type": "code",
   "execution_count": 72,
   "metadata": {},
   "outputs": [
    {
     "data": {
      "text/plain": [
       "[<matplotlib.lines.Line2D at 0x7faddd0d3ee0>]"
      ]
     },
     "execution_count": 72,
     "metadata": {},
     "output_type": "execute_result"
    },
    {
     "data": {
      "image/png": "[encoded data removed]",
      "text/plain": [
       "<Figure size 432x288 with 1 Axes>"
      ]
     },
     "metadata": {
      "needs_background": "light"
     },
     "output_type": "display_data"
    }
   ],
   "source": [
    "plt.plot(err)"
   ]
  },
  {
   "cell_type": "code",
   "execution_count": 73,
   "metadata": {},
   "outputs": [],
   "source": [
    "# compare your solution with scikit-learn library\n",
    "from sklearn.linear_model import LinearRegression"
   ]
  },
  {
   "cell_type": "code",
   "execution_count": 74,
   "metadata": {},
   "outputs": [],
   "source": [
    "# Create linear regression object\n",
    "model = LinearRegression(fit_intercept=True, normalize=False)"
   ]
  },
  {
   "cell_type": "code",
   "execution_count": 75,
   "metadata": {},
   "outputs": [
    {
     "data": {
      "text/plain": [
       "LinearRegression()"
      ]
     },
     "execution_count": 75,
     "metadata": {},
     "output_type": "execute_result"
    }
   ],
   "source": [
    "# Train the model using the training sets\n",
    "model.fit(X_train, y_train)"
   ]
  },
  {
   "cell_type": "code",
   "execution_count": 76,
   "metadata": {},
   "outputs": [
    {
     "name": "stdout",
     "output_type": "stream",
     "text": [
      "0.012602503305118876 0.015329118600967551\n"
     ]
    }
   ],
   "source": [
    "# Predict on test set and print evaluation metric\n",
    "# How much does it differ by from \n",
    "y_pred = model.predict(X_test)\n",
    "y_test1 = X_test@theta\n",
    "print(evaluation_metric(y_test,y_pred),evaluation_metric(y_test, y_test1))"
   ]
  },
  {
   "cell_type": "code",
   "execution_count": null,
   "metadata": {},
   "outputs": [],
   "source": []
  }
 ],
 "metadata": {
  "kernelspec": {
   "display_name": "Python 3",
   "language": "python",
   "name": "python3"
  },
  "language_info": {
   "codemirror_mode": {
    "name": "ipython",
    "version": 3
   },
   "file_extension": ".py",
   "mimetype": "text/x-python",
   "name": "python",
   "nbconvert_exporter": "python",
   "pygments_lexer": "ipython3",
   "version": "3.8.5"
  }
 },
 "nbformat": 4,
 "nbformat_minor": 4
}
